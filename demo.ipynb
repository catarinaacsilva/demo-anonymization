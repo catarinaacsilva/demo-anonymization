{
 "cells": [
  {
   "cell_type": "markdown",
   "id": "7e7c3118-0b1a-4966-8539-bf1dc3f6ad18",
   "metadata": {},
   "source": [
    "## Introduction\n",
    "\n",
    "Based on a dataset, which contains sensitive information, the goal is to mitigate potential data threats by analyzing features and understanding how they might be used to target individual users."
   ]
  },
  {
   "cell_type": "code",
   "execution_count": 42,
   "id": "605611cc-4f30-4a37-adef-9081c6e1c01e",
   "metadata": {},
   "outputs": [],
   "source": [
    "import pandas as pd\n",
    "import anonypy"
   ]
  },
  {
   "cell_type": "markdown",
   "id": "dd032ad7-f1a3-4c3a-8dad-ed47ecf2bfa8",
   "metadata": {},
   "source": [
    "## Possible threat analysis before anonymization\n",
    "\n",
    "Before anonymization, we identified some data features that could directly reveal user identities, such as: 'income'"
   ]
  },
  {
   "cell_type": "code",
   "execution_count": 43,
   "id": "4a4fd1e3-0095-43b9-ad51-ed31e91e77cb",
   "metadata": {},
   "outputs": [],
   "source": [
    "names = (\n",
    "    'age',\n",
    "    'workclass', #Private, Self-emp-not-inc, Self-emp-inc, Federal-gov, Local-gov, State-gov, Without-pay, Never-worked.\n",
    "    'fnlwgt', # \"weight\" of that person in the dataset (i.e. how many people does that person represent) -> https://www.kansascityfed.org/research/datamuseum/cps/coreinfo/keyconcepts/weights\n",
    "    'education',\n",
    "    'education-num',\n",
    "    'marital-status',\n",
    "    'occupation',\n",
    "    'relationship',\n",
    "    'race',\n",
    "    'sex',\n",
    "    'capital-gain',\n",
    "    'capital-loss',\n",
    "    'hours-per-week',\n",
    "    'native-country',\n",
    "    'income',\n",
    ")\n",
    "\n",
    "# some fields are categorical and will require special treatment\n",
    "categorical = set((\n",
    "    'workclass',\n",
    "    'education',\n",
    "    'marital-status',\n",
    "    'occupation',\n",
    "    'relationship',\n",
    "    'sex',\n",
    "    'native-country',\n",
    "    'race',\n",
    "    'income',\n",
    "))\n",
    "df = pd.read_csv(\"./adult.all.txt\", sep=\", \", header=None, names=names, index_col=False, engine='python');# We load the data using Pandas"
   ]
  },
  {
   "cell_type": "code",
   "execution_count": 44,
   "id": "3e1e71ff-5489-43eb-8fec-22557bef8333",
   "metadata": {},
   "outputs": [
    {
     "data": {
      "text/html": [
       "<div>\n",
       "<style scoped>\n",
       "    .dataframe tbody tr th:only-of-type {\n",
       "        vertical-align: middle;\n",
       "    }\n",
       "\n",
       "    .dataframe tbody tr th {\n",
       "        vertical-align: top;\n",
       "    }\n",
       "\n",
       "    .dataframe thead th {\n",
       "        text-align: right;\n",
       "    }\n",
       "</style>\n",
       "<table border=\"1\" class=\"dataframe\">\n",
       "  <thead>\n",
       "    <tr style=\"text-align: right;\">\n",
       "      <th></th>\n",
       "      <th>age</th>\n",
       "      <th>workclass</th>\n",
       "      <th>fnlwgt</th>\n",
       "      <th>education</th>\n",
       "      <th>education-num</th>\n",
       "      <th>marital-status</th>\n",
       "      <th>occupation</th>\n",
       "      <th>relationship</th>\n",
       "      <th>race</th>\n",
       "      <th>sex</th>\n",
       "      <th>capital-gain</th>\n",
       "      <th>capital-loss</th>\n",
       "      <th>hours-per-week</th>\n",
       "      <th>native-country</th>\n",
       "      <th>income</th>\n",
       "    </tr>\n",
       "  </thead>\n",
       "  <tbody>\n",
       "    <tr>\n",
       "      <th>0</th>\n",
       "      <td>39</td>\n",
       "      <td>State-gov</td>\n",
       "      <td>77516</td>\n",
       "      <td>Bachelors</td>\n",
       "      <td>13</td>\n",
       "      <td>Never-married</td>\n",
       "      <td>Adm-clerical</td>\n",
       "      <td>Not-in-family</td>\n",
       "      <td>White</td>\n",
       "      <td>Male</td>\n",
       "      <td>2174</td>\n",
       "      <td>0</td>\n",
       "      <td>40</td>\n",
       "      <td>United-States</td>\n",
       "      <td>&lt;=50k</td>\n",
       "    </tr>\n",
       "    <tr>\n",
       "      <th>1</th>\n",
       "      <td>50</td>\n",
       "      <td>Self-emp-not-inc</td>\n",
       "      <td>83311</td>\n",
       "      <td>Bachelors</td>\n",
       "      <td>13</td>\n",
       "      <td>Married-civ-spouse</td>\n",
       "      <td>Exec-managerial</td>\n",
       "      <td>Husband</td>\n",
       "      <td>White</td>\n",
       "      <td>Male</td>\n",
       "      <td>0</td>\n",
       "      <td>0</td>\n",
       "      <td>13</td>\n",
       "      <td>United-States</td>\n",
       "      <td>&lt;=50k</td>\n",
       "    </tr>\n",
       "    <tr>\n",
       "      <th>2</th>\n",
       "      <td>38</td>\n",
       "      <td>Private</td>\n",
       "      <td>215646</td>\n",
       "      <td>HS-grad</td>\n",
       "      <td>9</td>\n",
       "      <td>Divorced</td>\n",
       "      <td>Handlers-cleaners</td>\n",
       "      <td>Not-in-family</td>\n",
       "      <td>White</td>\n",
       "      <td>Male</td>\n",
       "      <td>0</td>\n",
       "      <td>0</td>\n",
       "      <td>40</td>\n",
       "      <td>United-States</td>\n",
       "      <td>&lt;=50k</td>\n",
       "    </tr>\n",
       "    <tr>\n",
       "      <th>3</th>\n",
       "      <td>53</td>\n",
       "      <td>Private</td>\n",
       "      <td>234721</td>\n",
       "      <td>11th</td>\n",
       "      <td>7</td>\n",
       "      <td>Married-civ-spouse</td>\n",
       "      <td>Handlers-cleaners</td>\n",
       "      <td>Husband</td>\n",
       "      <td>Black</td>\n",
       "      <td>Male</td>\n",
       "      <td>0</td>\n",
       "      <td>0</td>\n",
       "      <td>40</td>\n",
       "      <td>United-States</td>\n",
       "      <td>&lt;=50k</td>\n",
       "    </tr>\n",
       "    <tr>\n",
       "      <th>4</th>\n",
       "      <td>28</td>\n",
       "      <td>Private</td>\n",
       "      <td>338409</td>\n",
       "      <td>Bachelors</td>\n",
       "      <td>13</td>\n",
       "      <td>Married-civ-spouse</td>\n",
       "      <td>Prof-specialty</td>\n",
       "      <td>Wife</td>\n",
       "      <td>Black</td>\n",
       "      <td>Female</td>\n",
       "      <td>0</td>\n",
       "      <td>0</td>\n",
       "      <td>40</td>\n",
       "      <td>Cuba</td>\n",
       "      <td>&lt;=50k</td>\n",
       "    </tr>\n",
       "  </tbody>\n",
       "</table>\n",
       "</div>"
      ],
      "text/plain": [
       "   age         workclass  fnlwgt  education  education-num  \\\n",
       "0   39         State-gov   77516  Bachelors             13   \n",
       "1   50  Self-emp-not-inc   83311  Bachelors             13   \n",
       "2   38           Private  215646    HS-grad              9   \n",
       "3   53           Private  234721       11th              7   \n",
       "4   28           Private  338409  Bachelors             13   \n",
       "\n",
       "       marital-status         occupation   relationship   race     sex  \\\n",
       "0       Never-married       Adm-clerical  Not-in-family  White    Male   \n",
       "1  Married-civ-spouse    Exec-managerial        Husband  White    Male   \n",
       "2            Divorced  Handlers-cleaners  Not-in-family  White    Male   \n",
       "3  Married-civ-spouse  Handlers-cleaners        Husband  Black    Male   \n",
       "4  Married-civ-spouse     Prof-specialty           Wife  Black  Female   \n",
       "\n",
       "   capital-gain  capital-loss  hours-per-week native-country income  \n",
       "0          2174             0              40  United-States  <=50k  \n",
       "1             0             0              13  United-States  <=50k  \n",
       "2             0             0              40  United-States  <=50k  \n",
       "3             0             0              40  United-States  <=50k  \n",
       "4             0             0              40           Cuba  <=50k  "
      ]
     },
     "execution_count": 44,
     "metadata": {},
     "output_type": "execute_result"
    }
   ],
   "source": [
    "df.head()"
   ]
  },
  {
   "cell_type": "markdown",
   "id": "1cde0a58-78ba-43f6-854c-3c65e90eaab1",
   "metadata": {},
   "source": [
    "## Anonymization process\n",
    "\n",
    "K-anonymity is a privacy-preserving technique designed to protect individuals' identities within a dataset. It works by ensuring that each record in the dataset cannot be uniquely identified when compared to at least k-1 other records. In simpler terms, it involves grouping individuals together so that they cannot be singled out.\n",
    "\n",
    "**How does it work?**\n",
    "\n",
    "To achieve k-anonymity, data is often generalized or suppressed. This means that specific details, such as exact dates of birth or precise addresses, are replaced with broader categories (e.g., age range, city). This reduces the granularity of the data, making it more difficult to link a specific record to an individual.\n",
    "\n",
    "**Why is k-anonymity important?**\n",
    "\n",
    "In today's data-driven world, privacy concerns are paramount. K-anonymity helps mitigate the risks associated with data breaches and unauthorized access. By obscuring individual identities, it prevents malicious actors from re-identifying individuals and exploiting their sensitive information.\n",
    "\n",
    "**Limitations of k-anonymity:**\n",
    "\n",
    "While k-anonymity is a valuable tool, it has limitations. One significant drawback is the potential for privacy breaches through background knowledge attacks. If an attacker possesses additional information about an individual, they may be able to narrow down the group of records and identify the individual.\n",
    "\n",
    "Despite its limitations, k-anonymity remains a fundamental technique in data privacy and is often used in conjunction with other privacy-preserving methods to provide robust protection for sensitive data."
   ]
  },
  {
   "cell_type": "code",
   "execution_count": 45,
   "id": "d7f51415-e2de-4331-8604-99bce616caba",
   "metadata": {},
   "outputs": [
    {
     "name": "stdout",
     "output_type": "stream",
     "text": [
      "         age education-num income  count\n",
      "0       [17]         [7-8]  <=50k    334\n",
      "1    [18-19]         [7-8]  <=50k    451\n",
      "2    [18-19]         [7-8]   >50k      1\n",
      "3       [21]          [10]  <=50k    568\n",
      "4       [21]          [10]   >50k      2\n",
      "..       ...           ...    ...    ...\n",
      "852     [73]          [16]   >50k      1\n",
      "853     [74]          [16]   >50k      2\n",
      "854     [88]          [15]  <=50k      2\n",
      "855     [90]          [15]  <=50k      1\n",
      "856     [90]          [15]   >50k      2\n",
      "\n",
      "[857 rows x 4 columns]\n"
     ]
    }
   ],
   "source": [
    "for name in categorical:\n",
    "    df[name] = df[name].astype('category')\n",
    "\n",
    "feature_columns = ['age', 'education-num']\n",
    "sensitive_column = 'income'\n",
    "\n",
    "p = anonypy.Preserver(df, feature_columns, sensitive_column)\n",
    "rows = p.anonymize_k_anonymity(k=2)\n",
    "\n",
    "dfn = pd.DataFrame(rows)\n",
    "print(dfn)"
   ]
  },
  {
   "cell_type": "markdown",
   "id": "24f59834-f6b5-430d-bea2-dbc1da5f6451",
   "metadata": {},
   "source": [
    "## Possible threat analysis after anonymization\n",
    "\n",
    "One collums can not be enough to protect privacy."
   ]
  },
  {
   "cell_type": "markdown",
   "id": "8663897d-16a2-4233-9e96-d3f483e32964",
   "metadata": {},
   "source": [
    "## Evaluate the Anonymization\n",
    "\n",
    "Entropy, a fundamental concept in information theory, measures the uncertainty or randomness of a system. In the context of data anonymization, entropy can be used to quantify the difficulty of identifying a specific individual within a dataset.\n",
    "\n",
    "1. Calculating Entropy Before and After Anonymization:\n",
    "\n",
    "    - Before: The entropy of each identifying attribute (such as name, date of birth, address) is calculated before anonymization. High entropy indicates a wide variety of values, making individual identification difficult.\n",
    "    - After: After applying anonymization techniques (generalization, suppression, perturbation), the entropy of the same attributes is recalculated. The goal is for anonymization to increase entropy, making it harder to distinguish one individual from others."
   ]
  },
  {
   "cell_type": "code",
   "execution_count": 46,
   "id": "a9d91fff-af34-4c07-a85a-0152e8add711",
   "metadata": {},
   "outputs": [],
   "source": [
    "import numpy as np\n",
    "# Calculate the entropy of a column in the Raw dataset.\n",
    "\n",
    "# Count the occurrences of each value in the column\n",
    "counts = df['income'].value_counts()\n",
    "\n",
    "# Calculate probabilities\n",
    "probabilities = counts / len(df)\n",
    "\n",
    "# Calculate entropy using the formula: - Σ (p * log2(p))\n",
    "entropy_df = -np.sum(probabilities * np.log2(probabilities))"
   ]
  },
  {
   "cell_type": "code",
   "execution_count": 47,
   "id": "d73398d6-815d-4083-8846-5142396c26ea",
   "metadata": {},
   "outputs": [],
   "source": [
    "# Calculate the entropy of a column in the Anonymous dataset.\n",
    "\n",
    "# Count the occurrences of each value in the column\n",
    "counts = dfn['income'].value_counts()\n",
    "\n",
    "# Calculate probabilities\n",
    "probabilities = counts / len(dfn)\n",
    "\n",
    "# Calculate entropy using the formula: - Σ (p * log2(p))\n",
    "entropy_dfn = -np.sum(probabilities * np.log2(probabilities))"
   ]
  },
  {
   "cell_type": "code",
   "execution_count": 48,
   "id": "ba78dd96-38ea-4065-a979-dd77391eeb79",
   "metadata": {},
   "outputs": [
    {
     "name": "stdout",
     "output_type": "stream",
     "text": [
      "0.7938438393644256\n",
      "0.9599476519619152\n"
     ]
    }
   ],
   "source": [
    "print(entropy_df)\n",
    "print(entropy_dfn)"
   ]
  }
 ],
 "metadata": {
  "kernelspec": {
   "display_name": "Python 3 (ipykernel)",
   "language": "python",
   "name": "python3"
  },
  "language_info": {
   "codemirror_mode": {
    "name": "ipython",
    "version": 3
   },
   "file_extension": ".py",
   "mimetype": "text/x-python",
   "name": "python",
   "nbconvert_exporter": "python",
   "pygments_lexer": "ipython3",
   "version": "3.13.0"
  }
 },
 "nbformat": 4,
 "nbformat_minor": 5
}
